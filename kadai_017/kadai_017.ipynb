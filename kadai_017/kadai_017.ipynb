{
  "nbformat": 4,
  "nbformat_minor": 0,
  "metadata": {
    "colab": {
      "provenance": [],
      "history_visible": true
    },
    "kernelspec": {
      "name": "python3",
      "display_name": "Python 3"
    },
    "language_info": {
      "name": "python"
    }
  },
  "cells": [
    {
      "cell_type": "code",
      "source": [
        "# クラス作成\n",
        "class Human:\n",
        "    # コンストラクタ\n",
        "    def __init__(self, name, age):\n",
        "      self.name = name\n",
        "      self.age = age\n",
        "\n",
        "    # メソッド\n",
        "    def check_adult(self):\n",
        "      if self.age >= 20:\n",
        "          print(f\"{self.name}は大人です。\")\n",
        "      else:\n",
        "          print(f\"{self.name}は子供です。\")\n",
        "\n",
        "# リスト\n",
        "Human1 = Human(\"taro\", 23)\n",
        "Human2 = Human(\"yukie\", 18)\n",
        "Human3 = Human(\"yosio\", 21)\n",
        "Human4 = Human(\"kazuki\", 17)\n",
        "Human5 = Human(\"kouki\", 22)\n",
        "\n",
        "# ネーム格納\n",
        "names = [Human1, Human2, Human3, Human4, Human5]\n",
        "\n",
        "for Human in names:\n",
        "    Human.check_adult()"
      ],
      "metadata": {
        "colab": {
          "base_uri": "https://localhost:8080/"
        },
        "id": "lJ5iNDZIoAoc",
        "outputId": "d47f912c-05d5-4413-a33f-a0278720fa7e"
      },
      "execution_count": 61,
      "outputs": [
        {
          "output_type": "stream",
          "name": "stdout",
          "text": [
            "taroは大人です。\n",
            "yukieは子供です。\n",
            "yosioは大人です。\n",
            "kazukiは子供です。\n",
            "koukiは大人です。\n"
          ]
        }
      ]
    }
  ]
}