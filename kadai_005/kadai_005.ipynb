{
  "nbformat": 4,
  "nbformat_minor": 0,
  "metadata": {
    "colab": {
      "provenance": []
    },
    "kernelspec": {
      "name": "python3",
      "display_name": "Python 3"
    },
    "language_info": {
      "name": "python"
    }
  },
  "cells": [
    {
      "cell_type": "code",
      "source": [
        "# 定義\n",
        "top = 10\n",
        "bottom = 20\n",
        "height = 5\n",
        "\n",
        "# 面積計算\n",
        "area = (top + bottom) * height / 2\n",
        "\n",
        "# 単位表示\n",
        "print(str(area) + \"cm²\")"
      ],
      "metadata": {
        "colab": {
          "base_uri": "https://localhost:8080/"
        },
        "id": "8rmdET0qqgVk",
        "outputId": "b11f2c4a-3c1b-40c7-f741-f1067c69ae75"
      },
      "execution_count": 17,
      "outputs": [
        {
          "output_type": "stream",
          "name": "stdout",
          "text": [
            "75.0㎠\n"
          ]
        }
      ]
    }
  ]
}