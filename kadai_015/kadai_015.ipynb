{
  "nbformat": 4,
  "nbformat_minor": 0,
  "metadata": {
    "colab": {
      "provenance": [],
      "history_visible": true
    },
    "kernelspec": {
      "name": "python3",
      "display_name": "Python 3"
    },
    "language_info": {
      "name": "python"
    }
  },
  "cells": [
    {
      "cell_type": "code",
      "source": [
        "from os import name\n",
        "class Human:\n",
        "    #コンストラクタ\n",
        "    def __init__(self, name, age):\n",
        "        self.name = name\n",
        "        self.age = age\n",
        "\n",
        "    #　メソッド定義\n",
        "    def printinfo(self):\n",
        "        print(f\"{self.name},{self.age}\")\n",
        "\n",
        "# インスタンス化\n",
        "human = Human(\"akira\", \"32\")\n",
        "\n",
        "human.printinfo()"
      ],
      "metadata": {
        "colab": {
          "base_uri": "https://localhost:8080/"
        },
        "id": "9IFXN7_sJN9r",
        "outputId": "fbfc1874-8610-449d-8b5f-333f5ac634aa"
      },
      "execution_count": 48,
      "outputs": [
        {
          "output_type": "stream",
          "name": "stdout",
          "text": [
            "akira,32\n"
          ]
        }
      ]
    }
  ]
}