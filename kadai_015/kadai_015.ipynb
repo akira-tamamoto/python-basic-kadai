{
  "nbformat": 4,
  "nbformat_minor": 0,
  "metadata": {
    "colab": {
      "provenance": [],
      "history_visible": true
    },
    "kernelspec": {
      "name": "python3",
      "display_name": "Python 3"
    },
    "language_info": {
      "name": "python"
    }
  },
  "cells": [
    {
      "cell_type": "code",
      "source": [
        "from os import name\n",
        "class Human:\n",
        "    #コンストラクタ\n",
        "    def __init__(self, name, age):\n",
        "        self.name = name\n",
        "        self.age = age\n",
        "\n",
        "    #　メソッド定義\n",
        "    def printinfo(self, name, age):\n",
        "        self.name = name\n",
        "        self.age = age\n",
        "\n",
        "    def show_name(self):\n",
        "        print(self.name)\n",
        "\n",
        "    def show_age(self):\n",
        "        print(self.age)\n",
        "\n",
        "\n",
        "# インスタンス化\n",
        "human = Human(\"akira\", \"32\")\n",
        "\n",
        "# 属性にアクセスし、出力\n",
        "human.show_name()\n",
        "human.show_age()"
      ],
      "metadata": {
        "colab": {
          "base_uri": "https://localhost:8080/"
        },
        "id": "9IFXN7_sJN9r",
        "outputId": "225b397f-de8b-4e8d-a648-8e36b74311d4"
      },
      "execution_count": 23,
      "outputs": [
        {
          "output_type": "stream",
          "name": "stdout",
          "text": [
            "akira\n",
            "32\n"
          ]
        }
      ]
    }
  ]
}