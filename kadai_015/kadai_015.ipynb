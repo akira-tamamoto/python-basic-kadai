{
  "nbformat": 4,
  "nbformat_minor": 0,
  "metadata": {
    "colab": {
      "provenance": [],
      "history_visible": true
    },
    "kernelspec": {
      "name": "python3",
      "display_name": "Python 3"
    },
    "language_info": {
      "name": "python"
    }
  },
  "cells": [
    {
      "cell_type": "code",
      "source": [
        "class Human:\n",
        "    #コンストラクタ\n",
        "    def __init__(self, name, age):\n",
        "        self.name = name\n",
        "        self.age = age\n",
        "\n",
        "# インスタンス化\n",
        "human = Human(\"akira\", 32,)\n",
        "\n",
        "# 属性にアクセスし、出力\n",
        "print(human.name)\n",
        "print(human.age)"
      ],
      "metadata": {
        "colab": {
          "base_uri": "https://localhost:8080/"
        },
        "id": "9IFXN7_sJN9r",
        "outputId": "e4c93b96-8e42-4e2d-8ddb-264bbbc8f614"
      },
      "execution_count": 55,
      "outputs": [
        {
          "output_type": "stream",
          "name": "stdout",
          "text": [
            "akira\n",
            "32\n"
          ]
        }
      ]
    }
  ]
}