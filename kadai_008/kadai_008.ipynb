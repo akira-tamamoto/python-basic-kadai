{
  "nbformat": 4,
  "nbformat_minor": 0,
  "metadata": {
    "colab": {
      "provenance": [],
      "history_visible": true
    },
    "kernelspec": {
      "name": "python3",
      "display_name": "Python 3"
    },
    "language_info": {
      "name": "python"
    }
  },
  "cells": [
    {
      "cell_type": "code",
      "source": [
        "# ランダム引数\n",
        "import random\n",
        "\n",
        "# 変数定義\n",
        "var = random.randint(0,15)\n",
        "\n",
        "# 条件定義\n",
        "if var%3 == 0 and var%5 == 0 and var != 0:\n",
        "  print(\"FizzBuzz\")\n",
        "\n",
        "elif var%5 == 0 and var != 0:\n",
        "  print(\"Buzz\")\n",
        "\n",
        "elif var%3 == 0 and var != 0:\n",
        "    print(\"Fizz\")\n",
        "\n",
        "else:\n",
        "    print(var)"
      ],
      "metadata": {
        "colab": {
          "base_uri": "https://localhost:8080/"
        },
        "id": "glG535HrKfhP",
        "outputId": "7ce0e88f-b666-4e89-f8b8-2e94d61b97be"
      },
      "execution_count": 188,
      "outputs": [
        {
          "output_type": "stream",
          "name": "stdout",
          "text": [
            "0\n"
          ]
        }
      ]
    }
  ]
}