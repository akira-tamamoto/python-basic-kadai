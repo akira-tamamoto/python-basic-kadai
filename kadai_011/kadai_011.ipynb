{
  "nbformat": 4,
  "nbformat_minor": 0,
  "metadata": {
    "colab": {
      "provenance": [],
      "history_visible": true
    },
    "kernelspec": {
      "name": "python3",
      "display_name": "Python 3"
    },
    "language_info": {
      "name": "python"
    }
  },
  "cells": [
    {
      "cell_type": "code",
      "source": [
        "#　リスト\n",
        "array_lists = [\"水\", \"金\", \"地\", \"火\", \"木\", \"土\", \"天\", \"海\", \"冥\"]\n",
        "\n",
        "#　for\n",
        "for array in array_lists:\n",
        "    print(array)\n",
        "\n",
        "#　while\n",
        "#　カウンタ変数\n",
        "i = 0\n",
        "\n",
        "#　変数numの値が0以外で変数numを出力\n",
        "while i < len(array_lists):\n",
        "    print(array_lists[i])\n",
        "\n",
        "    #変数カウント\n",
        "    i += 1\n",
        "    #終了条件\n",
        "    if i == len(array_lists):\n",
        "      break"
      ],
      "metadata": {
        "colab": {
          "base_uri": "https://localhost:8080/"
        },
        "id": "tNu7QLNNzGzo",
        "outputId": "13ed6c11-b4c9-4fa4-b803-2582d1fd989a"
      },
      "execution_count": 78,
      "outputs": [
        {
          "output_type": "stream",
          "name": "stdout",
          "text": [
            "水\n",
            "金\n",
            "地\n",
            "火\n",
            "木\n",
            "土\n",
            "天\n",
            "海\n",
            "冥\n",
            "水\n",
            "金\n",
            "地\n",
            "火\n",
            "木\n",
            "土\n",
            "天\n",
            "海\n",
            "冥\n"
          ]
        }
      ]
    }
  ]
}