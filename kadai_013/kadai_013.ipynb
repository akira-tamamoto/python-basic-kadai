{
  "nbformat": 4,
  "nbformat_minor": 0,
  "metadata": {
    "colab": {
      "provenance": [],
      "history_visible": true
    },
    "kernelspec": {
      "name": "python3",
      "display_name": "Python 3"
    },
    "language_info": {
      "name": "python"
    }
  },
  "cells": [
    {
      "cell_type": "code",
      "source": [
        "#　関数定義\n",
        "def intax_total(price,tax):\n",
        "    #　変数totalに消費税を代入\n",
        "    total = price * tax\n",
        "\n",
        "    # 変数totalの値を出力\n",
        "    print(f\"{total}円\")\n",
        "\n",
        "#　関数を呼び出し、合計数を計算\n",
        "intax_total(110,1.1)"
      ],
      "metadata": {
        "colab": {
          "base_uri": "https://localhost:8080/"
        },
        "id": "oK5u0dbFsyYK",
        "outputId": "d1246b41-6df3-4c7b-d997-b0061a372fc6"
      },
      "execution_count": 2,
      "outputs": [
        {
          "output_type": "stream",
          "name": "stdout",
          "text": [
            "121.00000000000001円\n"
          ]
        }
      ]
    }
  ]
}