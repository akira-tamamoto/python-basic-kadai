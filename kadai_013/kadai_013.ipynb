{
  "nbformat": 4,
  "nbformat_minor": 0,
  "metadata": {
    "colab": {
      "provenance": [],
      "history_visible": true
    },
    "kernelspec": {
      "name": "python3",
      "display_name": "Python 3"
    },
    "language_info": {
      "name": "python"
    }
  },
  "cells": [
    {
      "cell_type": "code",
      "source": [
        "#　関数定義\n",
        "def total_price(price, tax):\n",
        "    #　変数totalに消費税計算を代入\n",
        "    tax = tax / 100 * price\n",
        "    total = price + tax\n",
        "    return total\n",
        "\n",
        "total_price(110,10)"
      ],
      "metadata": {
        "colab": {
          "base_uri": "https://localhost:8080/"
        },
        "id": "oK5u0dbFsyYK",
        "outputId": "713f2e19-729a-4304-b12c-f5df99ff1e3c"
      },
      "execution_count": 46,
      "outputs": [
        {
          "output_type": "execute_result",
          "data": {
            "text/plain": [
              "121.0"
            ]
          },
          "metadata": {},
          "execution_count": 46
        }
      ]
    },
    {
      "cell_type": "code",
      "source": [],
      "metadata": {
        "id": "gqc4h0yD93go"
      },
      "execution_count": null,
      "outputs": []
    }
  ]
}