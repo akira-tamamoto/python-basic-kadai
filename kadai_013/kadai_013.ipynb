{
  "nbformat": 4,
  "nbformat_minor": 0,
  "metadata": {
    "colab": {
      "provenance": [],
      "history_visible": true
    },
    "kernelspec": {
      "name": "python3",
      "display_name": "Python 3"
    },
    "language_info": {
      "name": "python"
    }
  },
  "cells": [
    {
      "cell_type": "code",
      "source": [
        "#　関数定義\n",
        "def total_price(price, tax):\n",
        "    #　変数totalに消費税計算を代入\n",
        "    tax = price * 0.1\n",
        "    total = price + tax\n",
        "    print(total)\n",
        "    return\n",
        "\n",
        "total_price(110,10)"
      ],
      "metadata": {
        "colab": {
          "base_uri": "https://localhost:8080/"
        },
        "id": "oK5u0dbFsyYK",
        "outputId": "0a6555ec-93a6-4bf5-8d0f-c1429fe1f797"
      },
      "execution_count": 40,
      "outputs": [
        {
          "output_type": "stream",
          "name": "stdout",
          "text": [
            "121.0\n"
          ]
        }
      ]
    }
  ]
}